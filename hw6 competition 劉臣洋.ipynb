{
 "cells": [
  {
   "cell_type": "code",
   "execution_count": 1,
   "metadata": {},
   "outputs": [],
   "source": [
    "import pandas as pd"
   ]
  },
  {
   "cell_type": "code",
   "execution_count": 2,
   "metadata": {},
   "outputs": [],
   "source": [
    "data = pd.read_csv(\"bank_customer_train.csv\")"
   ]
  },
  {
   "cell_type": "code",
   "execution_count": 3,
   "metadata": {},
   "outputs": [
    {
     "data": {
      "text/html": [
       "<div>\n",
       "<style scoped>\n",
       "    .dataframe tbody tr th:only-of-type {\n",
       "        vertical-align: middle;\n",
       "    }\n",
       "\n",
       "    .dataframe tbody tr th {\n",
       "        vertical-align: top;\n",
       "    }\n",
       "\n",
       "    .dataframe thead th {\n",
       "        text-align: right;\n",
       "    }\n",
       "</style>\n",
       "<table border=\"1\" class=\"dataframe\">\n",
       "  <thead>\n",
       "    <tr style=\"text-align: right;\">\n",
       "      <th></th>\n",
       "      <th>RowNumber</th>\n",
       "      <th>CustomerId</th>\n",
       "      <th>Surname</th>\n",
       "      <th>CreditScore</th>\n",
       "      <th>Geography</th>\n",
       "      <th>Gender</th>\n",
       "      <th>Age</th>\n",
       "      <th>Tenure</th>\n",
       "      <th>Balance</th>\n",
       "      <th>NumOfProducts</th>\n",
       "      <th>HasCrCard</th>\n",
       "      <th>IsActiveMember</th>\n",
       "      <th>EstimatedSalary</th>\n",
       "      <th>Exited</th>\n",
       "    </tr>\n",
       "  </thead>\n",
       "  <tbody>\n",
       "    <tr>\n",
       "      <th>0</th>\n",
       "      <td>551</td>\n",
       "      <td>15806307</td>\n",
       "      <td>Trevisano</td>\n",
       "      <td>720</td>\n",
       "      <td>Spain</td>\n",
       "      <td>Male</td>\n",
       "      <td>38</td>\n",
       "      <td>5</td>\n",
       "      <td>114051.97</td>\n",
       "      <td>2</td>\n",
       "      <td>0</td>\n",
       "      <td>1</td>\n",
       "      <td>107577.29</td>\n",
       "      <td>0</td>\n",
       "    </tr>\n",
       "    <tr>\n",
       "      <th>1</th>\n",
       "      <td>6897</td>\n",
       "      <td>15709621</td>\n",
       "      <td>Martin</td>\n",
       "      <td>682</td>\n",
       "      <td>France</td>\n",
       "      <td>Female</td>\n",
       "      <td>54</td>\n",
       "      <td>4</td>\n",
       "      <td>62397.41</td>\n",
       "      <td>1</td>\n",
       "      <td>1</td>\n",
       "      <td>0</td>\n",
       "      <td>113088.60</td>\n",
       "      <td>1</td>\n",
       "    </tr>\n",
       "    <tr>\n",
       "      <th>2</th>\n",
       "      <td>4588</td>\n",
       "      <td>15619340</td>\n",
       "      <td>Palmer</td>\n",
       "      <td>672</td>\n",
       "      <td>France</td>\n",
       "      <td>Female</td>\n",
       "      <td>31</td>\n",
       "      <td>5</td>\n",
       "      <td>119903.67</td>\n",
       "      <td>1</td>\n",
       "      <td>1</td>\n",
       "      <td>1</td>\n",
       "      <td>132925.17</td>\n",
       "      <td>0</td>\n",
       "    </tr>\n",
       "    <tr>\n",
       "      <th>3</th>\n",
       "      <td>291</td>\n",
       "      <td>15620746</td>\n",
       "      <td>Napolitani</td>\n",
       "      <td>592</td>\n",
       "      <td>Spain</td>\n",
       "      <td>Female</td>\n",
       "      <td>40</td>\n",
       "      <td>4</td>\n",
       "      <td>104257.86</td>\n",
       "      <td>1</td>\n",
       "      <td>1</td>\n",
       "      <td>0</td>\n",
       "      <td>110857.33</td>\n",
       "      <td>0</td>\n",
       "    </tr>\n",
       "    <tr>\n",
       "      <th>4</th>\n",
       "      <td>1673</td>\n",
       "      <td>15646372</td>\n",
       "      <td>Yao</td>\n",
       "      <td>753</td>\n",
       "      <td>Spain</td>\n",
       "      <td>Male</td>\n",
       "      <td>42</td>\n",
       "      <td>5</td>\n",
       "      <td>120387.73</td>\n",
       "      <td>1</td>\n",
       "      <td>0</td>\n",
       "      <td>1</td>\n",
       "      <td>126378.57</td>\n",
       "      <td>0</td>\n",
       "    </tr>\n",
       "  </tbody>\n",
       "</table>\n",
       "</div>"
      ],
      "text/plain": [
       "   RowNumber  CustomerId     Surname  CreditScore Geography  Gender  Age  \\\n",
       "0        551    15806307   Trevisano          720     Spain    Male   38   \n",
       "1       6897    15709621      Martin          682    France  Female   54   \n",
       "2       4588    15619340      Palmer          672    France  Female   31   \n",
       "3        291    15620746  Napolitani          592     Spain  Female   40   \n",
       "4       1673    15646372         Yao          753     Spain    Male   42   \n",
       "\n",
       "   Tenure    Balance  NumOfProducts  HasCrCard  IsActiveMember  \\\n",
       "0       5  114051.97              2          0               1   \n",
       "1       4   62397.41              1          1               0   \n",
       "2       5  119903.67              1          1               1   \n",
       "3       4  104257.86              1          1               0   \n",
       "4       5  120387.73              1          0               1   \n",
       "\n",
       "   EstimatedSalary  Exited  \n",
       "0        107577.29       0  \n",
       "1        113088.60       1  \n",
       "2        132925.17       0  \n",
       "3        110857.33       0  \n",
       "4        126378.57       0  "
      ]
     },
     "execution_count": 3,
     "metadata": {},
     "output_type": "execute_result"
    }
   ],
   "source": [
    "data.head()"
   ]
  },
  {
   "cell_type": "code",
   "execution_count": 4,
   "metadata": {
    "scrolled": true
   },
   "outputs": [
    {
     "data": {
      "text/html": [
       "<div>\n",
       "<style scoped>\n",
       "    .dataframe tbody tr th:only-of-type {\n",
       "        vertical-align: middle;\n",
       "    }\n",
       "\n",
       "    .dataframe tbody tr th {\n",
       "        vertical-align: top;\n",
       "    }\n",
       "\n",
       "    .dataframe thead th {\n",
       "        text-align: right;\n",
       "    }\n",
       "</style>\n",
       "<table border=\"1\" class=\"dataframe\">\n",
       "  <thead>\n",
       "    <tr style=\"text-align: right;\">\n",
       "      <th></th>\n",
       "      <th>RowNumber</th>\n",
       "      <th>CustomerId</th>\n",
       "      <th>CreditScore</th>\n",
       "      <th>Age</th>\n",
       "      <th>Tenure</th>\n",
       "      <th>Balance</th>\n",
       "      <th>NumOfProducts</th>\n",
       "      <th>HasCrCard</th>\n",
       "      <th>IsActiveMember</th>\n",
       "      <th>EstimatedSalary</th>\n",
       "      <th>Exited</th>\n",
       "    </tr>\n",
       "  </thead>\n",
       "  <tbody>\n",
       "    <tr>\n",
       "      <th>count</th>\n",
       "      <td>8000.000000</td>\n",
       "      <td>8.000000e+03</td>\n",
       "      <td>8000.000000</td>\n",
       "      <td>8000.000000</td>\n",
       "      <td>8000.000000</td>\n",
       "      <td>8000.000000</td>\n",
       "      <td>8000.000000</td>\n",
       "      <td>8000.000000</td>\n",
       "      <td>8000.000000</td>\n",
       "      <td>8000.000000</td>\n",
       "      <td>8000.000000</td>\n",
       "    </tr>\n",
       "    <tr>\n",
       "      <th>mean</th>\n",
       "      <td>5001.026625</td>\n",
       "      <td>1.569089e+07</td>\n",
       "      <td>630.804875</td>\n",
       "      <td>42.988125</td>\n",
       "      <td>4.567375</td>\n",
       "      <td>100569.286116</td>\n",
       "      <td>1.534250</td>\n",
       "      <td>0.702750</td>\n",
       "      <td>0.516875</td>\n",
       "      <td>100103.554906</td>\n",
       "      <td>0.204000</td>\n",
       "    </tr>\n",
       "    <tr>\n",
       "      <th>std</th>\n",
       "      <td>2879.566761</td>\n",
       "      <td>7.187306e+04</td>\n",
       "      <td>59.076984</td>\n",
       "      <td>7.515870</td>\n",
       "      <td>1.272758</td>\n",
       "      <td>31431.771836</td>\n",
       "      <td>0.582554</td>\n",
       "      <td>0.457076</td>\n",
       "      <td>0.499746</td>\n",
       "      <td>24511.460933</td>\n",
       "      <td>0.402994</td>\n",
       "    </tr>\n",
       "    <tr>\n",
       "      <th>min</th>\n",
       "      <td>1.000000</td>\n",
       "      <td>1.556571e+07</td>\n",
       "      <td>446.000000</td>\n",
       "      <td>28.000000</td>\n",
       "      <td>2.000000</td>\n",
       "      <td>62397.410000</td>\n",
       "      <td>1.000000</td>\n",
       "      <td>0.000000</td>\n",
       "      <td>0.000000</td>\n",
       "      <td>57522.070000</td>\n",
       "      <td>0.000000</td>\n",
       "    </tr>\n",
       "    <tr>\n",
       "      <th>25%</th>\n",
       "      <td>2500.750000</td>\n",
       "      <td>1.562882e+07</td>\n",
       "      <td>590.000000</td>\n",
       "      <td>38.000000</td>\n",
       "      <td>4.000000</td>\n",
       "      <td>62397.410000</td>\n",
       "      <td>1.000000</td>\n",
       "      <td>0.000000</td>\n",
       "      <td>0.000000</td>\n",
       "      <td>79216.925000</td>\n",
       "      <td>0.000000</td>\n",
       "    </tr>\n",
       "    <tr>\n",
       "      <th>50%</th>\n",
       "      <td>5014.000000</td>\n",
       "      <td>1.569017e+07</td>\n",
       "      <td>631.000000</td>\n",
       "      <td>42.000000</td>\n",
       "      <td>5.000000</td>\n",
       "      <td>111118.600000</td>\n",
       "      <td>1.000000</td>\n",
       "      <td>1.000000</td>\n",
       "      <td>1.000000</td>\n",
       "      <td>100056.110000</td>\n",
       "      <td>0.000000</td>\n",
       "    </tr>\n",
       "    <tr>\n",
       "      <th>75%</th>\n",
       "      <td>7474.250000</td>\n",
       "      <td>1.575398e+07</td>\n",
       "      <td>672.000000</td>\n",
       "      <td>47.000000</td>\n",
       "      <td>6.000000</td>\n",
       "      <td>126500.100000</td>\n",
       "      <td>2.000000</td>\n",
       "      <td>1.000000</td>\n",
       "      <td>1.000000</td>\n",
       "      <td>121104.542500</td>\n",
       "      <td>0.000000</td>\n",
       "    </tr>\n",
       "    <tr>\n",
       "      <th>max</th>\n",
       "      <td>9999.000000</td>\n",
       "      <td>1.581569e+07</td>\n",
       "      <td>753.000000</td>\n",
       "      <td>81.000000</td>\n",
       "      <td>7.000000</td>\n",
       "      <td>188500.680000</td>\n",
       "      <td>4.000000</td>\n",
       "      <td>1.000000</td>\n",
       "      <td>1.000000</td>\n",
       "      <td>142481.990000</td>\n",
       "      <td>1.000000</td>\n",
       "    </tr>\n",
       "  </tbody>\n",
       "</table>\n",
       "</div>"
      ],
      "text/plain": [
       "         RowNumber    CustomerId  CreditScore          Age       Tenure  \\\n",
       "count  8000.000000  8.000000e+03  8000.000000  8000.000000  8000.000000   \n",
       "mean   5001.026625  1.569089e+07   630.804875    42.988125     4.567375   \n",
       "std    2879.566761  7.187306e+04    59.076984     7.515870     1.272758   \n",
       "min       1.000000  1.556571e+07   446.000000    28.000000     2.000000   \n",
       "25%    2500.750000  1.562882e+07   590.000000    38.000000     4.000000   \n",
       "50%    5014.000000  1.569017e+07   631.000000    42.000000     5.000000   \n",
       "75%    7474.250000  1.575398e+07   672.000000    47.000000     6.000000   \n",
       "max    9999.000000  1.581569e+07   753.000000    81.000000     7.000000   \n",
       "\n",
       "             Balance  NumOfProducts    HasCrCard  IsActiveMember  \\\n",
       "count    8000.000000    8000.000000  8000.000000     8000.000000   \n",
       "mean   100569.286116       1.534250     0.702750        0.516875   \n",
       "std     31431.771836       0.582554     0.457076        0.499746   \n",
       "min     62397.410000       1.000000     0.000000        0.000000   \n",
       "25%     62397.410000       1.000000     0.000000        0.000000   \n",
       "50%    111118.600000       1.000000     1.000000        1.000000   \n",
       "75%    126500.100000       2.000000     1.000000        1.000000   \n",
       "max    188500.680000       4.000000     1.000000        1.000000   \n",
       "\n",
       "       EstimatedSalary       Exited  \n",
       "count      8000.000000  8000.000000  \n",
       "mean     100103.554906     0.204000  \n",
       "std       24511.460933     0.402994  \n",
       "min       57522.070000     0.000000  \n",
       "25%       79216.925000     0.000000  \n",
       "50%      100056.110000     0.000000  \n",
       "75%      121104.542500     0.000000  \n",
       "max      142481.990000     1.000000  "
      ]
     },
     "execution_count": 4,
     "metadata": {},
     "output_type": "execute_result"
    }
   ],
   "source": [
    "data.describe()"
   ]
  },
  {
   "cell_type": "code",
   "execution_count": 5,
   "metadata": {
    "scrolled": true
   },
   "outputs": [
    {
     "data": {
      "text/plain": [
       "0    6368\n",
       "1    1632\n",
       "Name: Exited, dtype: int64"
      ]
     },
     "execution_count": 5,
     "metadata": {},
     "output_type": "execute_result"
    }
   ],
   "source": [
    "data[\"Exited\"].value_counts()"
   ]
  },
  {
   "cell_type": "code",
   "execution_count": 6,
   "metadata": {
    "scrolled": true
   },
   "outputs": [
    {
     "data": {
      "text/plain": [
       "<matplotlib.axes._subplots.AxesSubplot at 0x1fd27e40c50>"
      ]
     },
     "execution_count": 6,
     "metadata": {},
     "output_type": "execute_result"
    }
   ],
   "source": [
    "data_corr = data.corr()\n",
    "import seaborn as sns\n",
    "import matplotlib.pyplot as plt\n",
    "plt.figure(figsize=(8,6))\n",
    "sns.heatmap(data_corr, cmap='YlGnBu')"
   ]
  },
  {
   "cell_type": "code",
   "execution_count": 7,
   "metadata": {
    "scrolled": false
   },
   "outputs": [
    {
     "data": {
      "text/html": [
       "<div>\n",
       "<style scoped>\n",
       "    .dataframe tbody tr th:only-of-type {\n",
       "        vertical-align: middle;\n",
       "    }\n",
       "\n",
       "    .dataframe tbody tr th {\n",
       "        vertical-align: top;\n",
       "    }\n",
       "\n",
       "    .dataframe thead th {\n",
       "        text-align: right;\n",
       "    }\n",
       "</style>\n",
       "<table border=\"1\" class=\"dataframe\">\n",
       "  <thead>\n",
       "    <tr style=\"text-align: right;\">\n",
       "      <th></th>\n",
       "      <th>RowNumber</th>\n",
       "      <th>CustomerId</th>\n",
       "      <th>CreditScore</th>\n",
       "      <th>Age</th>\n",
       "      <th>Tenure</th>\n",
       "      <th>Balance</th>\n",
       "      <th>NumOfProducts</th>\n",
       "      <th>HasCrCard</th>\n",
       "      <th>IsActiveMember</th>\n",
       "      <th>EstimatedSalary</th>\n",
       "      <th>Exited</th>\n",
       "    </tr>\n",
       "  </thead>\n",
       "  <tbody>\n",
       "    <tr>\n",
       "      <th>RowNumber</th>\n",
       "      <td>1.000000</td>\n",
       "      <td>0.009613</td>\n",
       "      <td>0.013601</td>\n",
       "      <td>0.016569</td>\n",
       "      <td>0.007163</td>\n",
       "      <td>0.005026</td>\n",
       "      <td>-0.006705</td>\n",
       "      <td>0.003179</td>\n",
       "      <td>0.003316</td>\n",
       "      <td>0.027600</td>\n",
       "      <td>0.004003</td>\n",
       "    </tr>\n",
       "    <tr>\n",
       "      <th>CustomerId</th>\n",
       "      <td>0.009613</td>\n",
       "      <td>1.000000</td>\n",
       "      <td>0.000929</td>\n",
       "      <td>-0.006874</td>\n",
       "      <td>0.002657</td>\n",
       "      <td>-0.003853</td>\n",
       "      <td>0.003545</td>\n",
       "      <td>0.003356</td>\n",
       "      <td>-0.006845</td>\n",
       "      <td>-0.000375</td>\n",
       "      <td>-0.001401</td>\n",
       "    </tr>\n",
       "    <tr>\n",
       "      <th>CreditScore</th>\n",
       "      <td>0.013601</td>\n",
       "      <td>0.000929</td>\n",
       "      <td>1.000000</td>\n",
       "      <td>0.002744</td>\n",
       "      <td>0.002374</td>\n",
       "      <td>0.001024</td>\n",
       "      <td>0.008050</td>\n",
       "      <td>-0.013454</td>\n",
       "      <td>0.026846</td>\n",
       "      <td>-0.004503</td>\n",
       "      <td>-0.024877</td>\n",
       "    </tr>\n",
       "    <tr>\n",
       "      <th>Age</th>\n",
       "      <td>0.016569</td>\n",
       "      <td>-0.006874</td>\n",
       "      <td>0.002744</td>\n",
       "      <td>1.000000</td>\n",
       "      <td>-0.005595</td>\n",
       "      <td>0.036458</td>\n",
       "      <td>-0.028103</td>\n",
       "      <td>-0.009543</td>\n",
       "      <td>0.096660</td>\n",
       "      <td>-0.004913</td>\n",
       "      <td>0.284937</td>\n",
       "    </tr>\n",
       "    <tr>\n",
       "      <th>Tenure</th>\n",
       "      <td>0.007163</td>\n",
       "      <td>0.002657</td>\n",
       "      <td>0.002374</td>\n",
       "      <td>-0.005595</td>\n",
       "      <td>1.000000</td>\n",
       "      <td>-0.013555</td>\n",
       "      <td>0.007594</td>\n",
       "      <td>0.024330</td>\n",
       "      <td>-0.019281</td>\n",
       "      <td>0.001388</td>\n",
       "      <td>-0.015832</td>\n",
       "    </tr>\n",
       "    <tr>\n",
       "      <th>Balance</th>\n",
       "      <td>0.005026</td>\n",
       "      <td>-0.003853</td>\n",
       "      <td>0.001024</td>\n",
       "      <td>0.036458</td>\n",
       "      <td>-0.013555</td>\n",
       "      <td>1.000000</td>\n",
       "      <td>-0.299640</td>\n",
       "      <td>-0.014920</td>\n",
       "      <td>-0.015470</td>\n",
       "      <td>0.021139</td>\n",
       "      <td>0.120387</td>\n",
       "    </tr>\n",
       "    <tr>\n",
       "      <th>NumOfProducts</th>\n",
       "      <td>-0.006705</td>\n",
       "      <td>0.003545</td>\n",
       "      <td>0.008050</td>\n",
       "      <td>-0.028103</td>\n",
       "      <td>0.007594</td>\n",
       "      <td>-0.299640</td>\n",
       "      <td>1.000000</td>\n",
       "      <td>0.000679</td>\n",
       "      <td>0.010682</td>\n",
       "      <td>0.008099</td>\n",
       "      <td>-0.048936</td>\n",
       "    </tr>\n",
       "    <tr>\n",
       "      <th>HasCrCard</th>\n",
       "      <td>0.003179</td>\n",
       "      <td>0.003356</td>\n",
       "      <td>-0.013454</td>\n",
       "      <td>-0.009543</td>\n",
       "      <td>0.024330</td>\n",
       "      <td>-0.014920</td>\n",
       "      <td>0.000679</td>\n",
       "      <td>1.000000</td>\n",
       "      <td>-0.007592</td>\n",
       "      <td>-0.020165</td>\n",
       "      <td>-0.006711</td>\n",
       "    </tr>\n",
       "    <tr>\n",
       "      <th>IsActiveMember</th>\n",
       "      <td>0.003316</td>\n",
       "      <td>-0.006845</td>\n",
       "      <td>0.026846</td>\n",
       "      <td>0.096660</td>\n",
       "      <td>-0.019281</td>\n",
       "      <td>-0.015470</td>\n",
       "      <td>0.010682</td>\n",
       "      <td>-0.007592</td>\n",
       "      <td>1.000000</td>\n",
       "      <td>-0.011354</td>\n",
       "      <td>-0.158626</td>\n",
       "    </tr>\n",
       "    <tr>\n",
       "      <th>EstimatedSalary</th>\n",
       "      <td>0.027600</td>\n",
       "      <td>-0.000375</td>\n",
       "      <td>-0.004503</td>\n",
       "      <td>-0.004913</td>\n",
       "      <td>0.001388</td>\n",
       "      <td>0.021139</td>\n",
       "      <td>0.008099</td>\n",
       "      <td>-0.020165</td>\n",
       "      <td>-0.011354</td>\n",
       "      <td>1.000000</td>\n",
       "      <td>0.007740</td>\n",
       "    </tr>\n",
       "    <tr>\n",
       "      <th>Exited</th>\n",
       "      <td>0.004003</td>\n",
       "      <td>-0.001401</td>\n",
       "      <td>-0.024877</td>\n",
       "      <td>0.284937</td>\n",
       "      <td>-0.015832</td>\n",
       "      <td>0.120387</td>\n",
       "      <td>-0.048936</td>\n",
       "      <td>-0.006711</td>\n",
       "      <td>-0.158626</td>\n",
       "      <td>0.007740</td>\n",
       "      <td>1.000000</td>\n",
       "    </tr>\n",
       "  </tbody>\n",
       "</table>\n",
       "</div>"
      ],
      "text/plain": [
       "                 RowNumber  CustomerId  CreditScore       Age    Tenure  \\\n",
       "RowNumber         1.000000    0.009613     0.013601  0.016569  0.007163   \n",
       "CustomerId        0.009613    1.000000     0.000929 -0.006874  0.002657   \n",
       "CreditScore       0.013601    0.000929     1.000000  0.002744  0.002374   \n",
       "Age               0.016569   -0.006874     0.002744  1.000000 -0.005595   \n",
       "Tenure            0.007163    0.002657     0.002374 -0.005595  1.000000   \n",
       "Balance           0.005026   -0.003853     0.001024  0.036458 -0.013555   \n",
       "NumOfProducts    -0.006705    0.003545     0.008050 -0.028103  0.007594   \n",
       "HasCrCard         0.003179    0.003356    -0.013454 -0.009543  0.024330   \n",
       "IsActiveMember    0.003316   -0.006845     0.026846  0.096660 -0.019281   \n",
       "EstimatedSalary   0.027600   -0.000375    -0.004503 -0.004913  0.001388   \n",
       "Exited            0.004003   -0.001401    -0.024877  0.284937 -0.015832   \n",
       "\n",
       "                  Balance  NumOfProducts  HasCrCard  IsActiveMember  \\\n",
       "RowNumber        0.005026      -0.006705   0.003179        0.003316   \n",
       "CustomerId      -0.003853       0.003545   0.003356       -0.006845   \n",
       "CreditScore      0.001024       0.008050  -0.013454        0.026846   \n",
       "Age              0.036458      -0.028103  -0.009543        0.096660   \n",
       "Tenure          -0.013555       0.007594   0.024330       -0.019281   \n",
       "Balance          1.000000      -0.299640  -0.014920       -0.015470   \n",
       "NumOfProducts   -0.299640       1.000000   0.000679        0.010682   \n",
       "HasCrCard       -0.014920       0.000679   1.000000       -0.007592   \n",
       "IsActiveMember  -0.015470       0.010682  -0.007592        1.000000   \n",
       "EstimatedSalary  0.021139       0.008099  -0.020165       -0.011354   \n",
       "Exited           0.120387      -0.048936  -0.006711       -0.158626   \n",
       "\n",
       "                 EstimatedSalary    Exited  \n",
       "RowNumber               0.027600  0.004003  \n",
       "CustomerId             -0.000375 -0.001401  \n",
       "CreditScore            -0.004503 -0.024877  \n",
       "Age                    -0.004913  0.284937  \n",
       "Tenure                  0.001388 -0.015832  \n",
       "Balance                 0.021139  0.120387  \n",
       "NumOfProducts           0.008099 -0.048936  \n",
       "HasCrCard              -0.020165 -0.006711  \n",
       "IsActiveMember         -0.011354 -0.158626  \n",
       "EstimatedSalary         1.000000  0.007740  \n",
       "Exited                  0.007740  1.000000  "
      ]
     },
     "execution_count": 7,
     "metadata": {},
     "output_type": "execute_result"
    }
   ],
   "source": [
    "data_corr"
   ]
  },
  {
   "cell_type": "code",
   "execution_count": 57,
   "metadata": {
    "scrolled": true
   },
   "outputs": [
    {
     "data": {
      "text/plain": [
       "True"
      ]
     },
     "execution_count": 57,
     "metadata": {},
     "output_type": "execute_result"
    }
   ],
   "source": [
    "len(pd.unique(data['RowNumber']))==len(data[\"RowNumber\"])"
   ]
  },
  {
   "cell_type": "code",
   "execution_count": 58,
   "metadata": {},
   "outputs": [
    {
     "data": {
      "text/plain": [
       "True"
      ]
     },
     "execution_count": 58,
     "metadata": {},
     "output_type": "execute_result"
    }
   ],
   "source": [
    "len(pd.unique(data['CustomerId']))==len(data[\"CustomerId\"])"
   ]
  },
  {
   "cell_type": "markdown",
   "metadata": {},
   "source": [
    "### categorical feature target observe"
   ]
  },
  {
   "cell_type": "code",
   "execution_count": 9,
   "metadata": {},
   "outputs": [],
   "source": [
    "def target_base_on_feature_type(df,feature_name,target_name):\n",
    "    feature_type = pd.unique(df[feature_name])\n",
    "    target_feature_type = {}\n",
    "    for i in range(len(feature_type)):\n",
    "        target_feature_type[feature_type[i]] = {}\n",
    "        total_exit = sum(df[df[feature_name]==feature_type[i]][target_name])\n",
    "        target_feature_type[feature_type[i]]['1'] = total_exit\n",
    "        target_feature_type[feature_type[i]]['0'] = len(df[df[feature_name]==feature_type[i]][target_name])-total_exit\n",
    "    return target_feature_type"
   ]
  },
  {
   "cell_type": "code",
   "execution_count": 55,
   "metadata": {
    "scrolled": false
   },
   "outputs": [],
   "source": [
    "feature_name = list(data.columns)\n",
    "feature_name_2 = feature_name.copy()\n",
    "feature_name_2.remove('Surname')\n",
    "feature_name_2.remove('RowNumber')\n",
    "feature_name_2.remove('CustomerId')\n",
    "feature_name_2.remove('CreditScore')\n",
    "feature_name_2.remove('Age')\n",
    "feature_name_2.remove('Balance')\n",
    "feature_name_2.remove('EstimatedSalary')\n",
    "feature_name_2.remove('Exited')"
   ]
  },
  {
   "cell_type": "code",
   "execution_count": 56,
   "metadata": {},
   "outputs": [
    {
     "name": "stdout",
     "output_type": "stream",
     "text": [
      "Geography\n",
      "      0     1     2\n",
      "0  3361  1369  1638\n",
      "1   645   649   338\n",
      "Gender\n",
      "      0     1\n",
      "0  2721  3647\n",
      "1   908   724\n",
      "Tenure\n",
      "     2     3     4     5     6    7\n",
      "0  258  1304  1250  1927  1316  313\n",
      "1   81   344   335   459   331   82\n",
      "NumOfProducts\n",
      "      1     2    3   4\n",
      "0  2910  3422   36   0\n",
      "1  1129   275  179  49\n",
      "HasCrCard\n",
      "      0     1\n",
      "0  1883  4485\n",
      "1   495  1137\n",
      "IsActiveMember\n",
      "      0     1\n",
      "0  2821  3547\n",
      "1  1044   588\n"
     ]
    }
   ],
   "source": [
    "for i in range(len(feature_name_2)):\n",
    "    feature_target = target_base_on_feature_type(data, feature_name_2[i], 'Exited')\n",
    "    print(feature_name_2[i])\n",
    "    print(pd.DataFrame(feature_target))"
   ]
  },
  {
   "cell_type": "markdown",
   "metadata": {},
   "source": [
    "### categorical transform"
   ]
  },
  {
   "cell_type": "code",
   "execution_count": 13,
   "metadata": {},
   "outputs": [],
   "source": [
    "from sklearn.preprocessing import LabelEncoder"
   ]
  },
  {
   "cell_type": "code",
   "execution_count": 14,
   "metadata": {},
   "outputs": [],
   "source": [
    "def categorical_transform(df):\n",
    "    column_name = list(df.columns)\n",
    "    labelencoder = LabelEncoder()\n",
    "    for i in range(len(column_name)):\n",
    "        if type(df[column_name[i]][1]) == str:\n",
    "            df[column_name[i]] = labelencoder.fit_transform(df[column_name[i]])\n",
    "    return df"
   ]
  },
  {
   "cell_type": "code",
   "execution_count": 15,
   "metadata": {},
   "outputs": [],
   "source": [
    "data_2 = categorical_transform(data)"
   ]
  },
  {
   "cell_type": "code",
   "execution_count": 16,
   "metadata": {
    "scrolled": true
   },
   "outputs": [
    {
     "data": {
      "text/html": [
       "<div>\n",
       "<style scoped>\n",
       "    .dataframe tbody tr th:only-of-type {\n",
       "        vertical-align: middle;\n",
       "    }\n",
       "\n",
       "    .dataframe tbody tr th {\n",
       "        vertical-align: top;\n",
       "    }\n",
       "\n",
       "    .dataframe thead th {\n",
       "        text-align: right;\n",
       "    }\n",
       "</style>\n",
       "<table border=\"1\" class=\"dataframe\">\n",
       "  <thead>\n",
       "    <tr style=\"text-align: right;\">\n",
       "      <th></th>\n",
       "      <th>RowNumber</th>\n",
       "      <th>CustomerId</th>\n",
       "      <th>Surname</th>\n",
       "      <th>CreditScore</th>\n",
       "      <th>Geography</th>\n",
       "      <th>Gender</th>\n",
       "      <th>Age</th>\n",
       "      <th>Tenure</th>\n",
       "      <th>Balance</th>\n",
       "      <th>NumOfProducts</th>\n",
       "      <th>HasCrCard</th>\n",
       "      <th>IsActiveMember</th>\n",
       "      <th>EstimatedSalary</th>\n",
       "      <th>Exited</th>\n",
       "    </tr>\n",
       "  </thead>\n",
       "  <tbody>\n",
       "    <tr>\n",
       "      <th>0</th>\n",
       "      <td>551</td>\n",
       "      <td>15806307</td>\n",
       "      <td>2336</td>\n",
       "      <td>720</td>\n",
       "      <td>2</td>\n",
       "      <td>1</td>\n",
       "      <td>38</td>\n",
       "      <td>5</td>\n",
       "      <td>114051.97</td>\n",
       "      <td>2</td>\n",
       "      <td>0</td>\n",
       "      <td>1</td>\n",
       "      <td>107577.29</td>\n",
       "      <td>0</td>\n",
       "    </tr>\n",
       "    <tr>\n",
       "      <th>1</th>\n",
       "      <td>6897</td>\n",
       "      <td>15709621</td>\n",
       "      <td>1500</td>\n",
       "      <td>682</td>\n",
       "      <td>0</td>\n",
       "      <td>0</td>\n",
       "      <td>54</td>\n",
       "      <td>4</td>\n",
       "      <td>62397.41</td>\n",
       "      <td>1</td>\n",
       "      <td>1</td>\n",
       "      <td>0</td>\n",
       "      <td>113088.60</td>\n",
       "      <td>1</td>\n",
       "    </tr>\n",
       "    <tr>\n",
       "      <th>2</th>\n",
       "      <td>4588</td>\n",
       "      <td>15619340</td>\n",
       "      <td>1865</td>\n",
       "      <td>672</td>\n",
       "      <td>0</td>\n",
       "      <td>0</td>\n",
       "      <td>31</td>\n",
       "      <td>5</td>\n",
       "      <td>119903.67</td>\n",
       "      <td>1</td>\n",
       "      <td>1</td>\n",
       "      <td>1</td>\n",
       "      <td>132925.17</td>\n",
       "      <td>0</td>\n",
       "    </tr>\n",
       "    <tr>\n",
       "      <th>3</th>\n",
       "      <td>291</td>\n",
       "      <td>15620746</td>\n",
       "      <td>1672</td>\n",
       "      <td>592</td>\n",
       "      <td>2</td>\n",
       "      <td>0</td>\n",
       "      <td>40</td>\n",
       "      <td>4</td>\n",
       "      <td>104257.86</td>\n",
       "      <td>1</td>\n",
       "      <td>1</td>\n",
       "      <td>0</td>\n",
       "      <td>110857.33</td>\n",
       "      <td>0</td>\n",
       "    </tr>\n",
       "    <tr>\n",
       "      <th>4</th>\n",
       "      <td>1673</td>\n",
       "      <td>15646372</td>\n",
       "      <td>2532</td>\n",
       "      <td>753</td>\n",
       "      <td>2</td>\n",
       "      <td>1</td>\n",
       "      <td>42</td>\n",
       "      <td>5</td>\n",
       "      <td>120387.73</td>\n",
       "      <td>1</td>\n",
       "      <td>0</td>\n",
       "      <td>1</td>\n",
       "      <td>126378.57</td>\n",
       "      <td>0</td>\n",
       "    </tr>\n",
       "  </tbody>\n",
       "</table>\n",
       "</div>"
      ],
      "text/plain": [
       "   RowNumber  CustomerId  Surname  CreditScore  Geography  Gender  Age  \\\n",
       "0        551    15806307     2336          720          2       1   38   \n",
       "1       6897    15709621     1500          682          0       0   54   \n",
       "2       4588    15619340     1865          672          0       0   31   \n",
       "3        291    15620746     1672          592          2       0   40   \n",
       "4       1673    15646372     2532          753          2       1   42   \n",
       "\n",
       "   Tenure    Balance  NumOfProducts  HasCrCard  IsActiveMember  \\\n",
       "0       5  114051.97              2          0               1   \n",
       "1       4   62397.41              1          1               0   \n",
       "2       5  119903.67              1          1               1   \n",
       "3       4  104257.86              1          1               0   \n",
       "4       5  120387.73              1          0               1   \n",
       "\n",
       "   EstimatedSalary  Exited  \n",
       "0        107577.29       0  \n",
       "1        113088.60       1  \n",
       "2        132925.17       0  \n",
       "3        110857.33       0  \n",
       "4        126378.57       0  "
      ]
     },
     "execution_count": 16,
     "metadata": {},
     "output_type": "execute_result"
    }
   ],
   "source": [
    "data_2.head()"
   ]
  },
  {
   "cell_type": "markdown",
   "metadata": {},
   "source": [
    "### data preprocessing-target balancing"
   ]
  },
  {
   "cell_type": "code",
   "execution_count": 17,
   "metadata": {
    "scrolled": false
   },
   "outputs": [
    {
     "data": {
      "text/plain": [
       "0    6368\n",
       "1    1632\n",
       "Name: Exited, dtype: int64"
      ]
     },
     "execution_count": 17,
     "metadata": {},
     "output_type": "execute_result"
    }
   ],
   "source": [
    "data_2[\"Exited\"].value_counts()"
   ]
  },
  {
   "cell_type": "markdown",
   "metadata": {},
   "source": [
    "### data preprocessing-continuous variable"
   ]
  },
  {
   "cell_type": "code",
   "execution_count": 18,
   "metadata": {},
   "outputs": [],
   "source": [
    "import seaborn as sns"
   ]
  },
  {
   "cell_type": "code",
   "execution_count": 19,
   "metadata": {
    "scrolled": false
   },
   "outputs": [
    {
     "data": {
      "text/plain": [
       "<matplotlib.axes._subplots.AxesSubplot at 0x1fd2b4125c0>"
      ]
     },
     "execution_count": 19,
     "metadata": {},
     "output_type": "execute_result"
    },
    {
     "data": {
      "image/png": "[encoded data removed]",
      "text/plain": [
       "<Figure size 432x288 with 1 Axes>"
      ]
     },
     "metadata": {
      "needs_background": "light"
     },
     "output_type": "display_data"
    }
   ],
   "source": [
    "sns.distplot(data_2[\"CreditScore\"], hist = True)"
   ]
  },
  {
   "cell_type": "code",
   "execution_count": 20,
   "metadata": {},
   "outputs": [],
   "source": [
    "import numpy as np"
   ]
  },
  {
   "cell_type": "code",
   "execution_count": 21,
   "metadata": {
    "scrolled": true
   },
   "outputs": [
    {
     "data": {
      "text/plain": [
       "691.6"
      ]
     },
     "execution_count": 21,
     "metadata": {},
     "output_type": "execute_result"
    }
   ],
   "source": [
    "(max(data_2[\"CreditScore\"])-min(data_2[\"CreditScore\"]))*0.8+min(data_2[\"CreditScore\"])"
   ]
  },
  {
   "cell_type": "code",
   "execution_count": 24,
   "metadata": {
    "scrolled": false
   },
   "outputs": [
    {
     "data": {
      "text/plain": [
       "0    1109\n",
       "1     272\n",
       "Name: Exited, dtype: int64"
      ]
     },
     "execution_count": 24,
     "metadata": {},
     "output_type": "execute_result"
    }
   ],
   "source": [
    "data_2[data_2[\"CreditScore\"]>=690][\"Exited\"].value_counts()"
   ]
  },
  {
   "cell_type": "code",
   "execution_count": 25,
   "metadata": {
    "scrolled": true
   },
   "outputs": [
    {
     "data": {
      "text/plain": [
       "<matplotlib.axes._subplots.AxesSubplot at 0x1fd27e403c8>"
      ]
     },
     "execution_count": 25,
     "metadata": {},
     "output_type": "execute_result"
    },
    {
     "data": {
      "image/png": "[encoded data removed]",
      "text/plain": [
       "<Figure size 432x288 with 1 Axes>"
      ]
     },
     "metadata": {
      "needs_background": "light"
     },
     "output_type": "display_data"
    }
   ],
   "source": [
    "sns.distplot(data_2[\"Surname\"], hist = True)"
   ]
  },
  {
   "cell_type": "code",
   "execution_count": 26,
   "metadata": {
    "scrolled": true
   },
   "outputs": [
    {
     "data": {
      "text/plain": [
       "<matplotlib.axes._subplots.AxesSubplot at 0x1fd2c5ca710>"
      ]
     },
     "execution_count": 26,
     "metadata": {},
     "output_type": "execute_result"
    },
    {
     "data": {
      "image/png": "[encoded data removed]",
      "text/plain": [
       "<Figure size 432x288 with 1 Axes>"
      ]
     },
     "metadata": {
      "needs_background": "light"
     },
     "output_type": "display_data"
    }
   ],
   "source": [
    "sns.distplot(data_2[\"Balance\"], hist = True)"
   ]
  },
  {
   "cell_type": "code",
   "execution_count": 27,
   "metadata": {
    "scrolled": true
   },
   "outputs": [
    {
     "data": {
      "text/plain": [
       "<matplotlib.axes._subplots.AxesSubplot at 0x1fd2c637ba8>"
      ]
     },
     "execution_count": 27,
     "metadata": {},
     "output_type": "execute_result"
    },
    {
     "data": {
      "image/png": "[encoded data removed]",
      "text/plain": [
       "<Figure size 432x288 with 1 Axes>"
      ]
     },
     "metadata": {
      "needs_background": "light"
     },
     "output_type": "display_data"
    }
   ],
   "source": [
    "sns.distplot(data_2[\"Age\"], hist = True)"
   ]
  },
  {
   "cell_type": "code",
   "execution_count": 28,
   "metadata": {
    "scrolled": true
   },
   "outputs": [
    {
     "data": {
      "text/plain": [
       "<matplotlib.axes._subplots.AxesSubplot at 0x1fd2c6c1828>"
      ]
     },
     "execution_count": 28,
     "metadata": {},
     "output_type": "execute_result"
    },
    {
     "data": {
      "image/png": "[encoded data removed]",
      "text/plain": [
       "<Figure size 432x288 with 1 Axes>"
      ]
     },
     "metadata": {
      "needs_background": "light"
     },
     "output_type": "display_data"
    }
   ],
   "source": [
    "sns.distplot(data_2[\"EstimatedSalary\"], hist = True)"
   ]
  },
  {
   "cell_type": "code",
   "execution_count": 29,
   "metadata": {
    "scrolled": false
   },
   "outputs": [
    {
     "data": {
      "text/plain": [
       "124000.0"
      ]
     },
     "execution_count": 29,
     "metadata": {},
     "output_type": "execute_result"
    }
   ],
   "source": [
    "(140000-60000)*0.8+60000"
   ]
  },
  {
   "cell_type": "code",
   "execution_count": 30,
   "metadata": {
    "scrolled": true
   },
   "outputs": [
    {
     "data": {
      "text/plain": [
       "0    1379\n",
       "1     379\n",
       "Name: Exited, dtype: int64"
      ]
     },
     "execution_count": 30,
     "metadata": {},
     "output_type": "execute_result"
    }
   ],
   "source": [
    "data_2[data_2[\"EstimatedSalary\"]>= 124000][\"Exited\"].value_counts()"
   ]
  },
  {
   "cell_type": "code",
   "execution_count": 60,
   "metadata": {},
   "outputs": [],
   "source": [
    "feature_name_3 = feature_name.copy()\n",
    "feature_name_3.remove('RowNumber')\n",
    "feature_name_3.remove('CustomerId')\n",
    "feature_name_3.remove('Exited')\n",
    "feature_name_3.remove('Geography')\n",
    "feature_name_3.remove('Gender')\n",
    "feature_name_3.remove('Tenure')\n",
    "feature_name_3.remove('NumOfProducts')\n",
    "feature_name_3.remove('HasCrCard')\n",
    "feature_name_3.remove('IsActiveMember')"
   ]
  },
  {
   "cell_type": "code",
   "execution_count": 62,
   "metadata": {},
   "outputs": [
    {
     "data": {
      "text/plain": [
       "['Surname', 'CreditScore', 'Age', 'Balance', 'EstimatedSalary']"
      ]
     },
     "execution_count": 62,
     "metadata": {},
     "output_type": "execute_result"
    }
   ],
   "source": [
    "feature_name_3"
   ]
  },
  {
   "cell_type": "markdown",
   "metadata": {},
   "source": [
    "### run model"
   ]
  },
  {
   "cell_type": "code",
   "execution_count": 31,
   "metadata": {
    "scrolled": false
   },
   "outputs": [],
   "source": [
    "data_3 = data_2.copy()"
   ]
  },
  {
   "cell_type": "code",
   "execution_count": 45,
   "metadata": {},
   "outputs": [],
   "source": [
    "x = data_3.drop(columns = [\"Exited\",\"RowNumber\",\"CustomerId\"])\n",
    "y = data_3[\"Exited\"]"
   ]
  },
  {
   "cell_type": "code",
   "execution_count": 40,
   "metadata": {},
   "outputs": [],
   "source": [
    "from sklearn.model_selection import train_test_split\n",
    "from sklearn.ensemble import RandomForestClassifier\n",
    "from sklearn.metrics import classification_report"
   ]
  },
  {
   "cell_type": "code",
   "execution_count": 46,
   "metadata": {},
   "outputs": [],
   "source": [
    "train_x, test_x, train_y, test_y = train_test_split(x, y, train_size = 0.8, random_state = 1039)"
   ]
  },
  {
   "cell_type": "code",
   "execution_count": 47,
   "metadata": {},
   "outputs": [
    {
     "data": {
      "text/plain": [
       "RandomForestClassifier(bootstrap=True, ccp_alpha=0.0, class_weight=None,\n",
       "                       criterion='gini', max_depth=None, max_features='auto',\n",
       "                       max_leaf_nodes=None, max_samples=None,\n",
       "                       min_impurity_decrease=0.0, min_impurity_split=None,\n",
       "                       min_samples_leaf=1, min_samples_split=2,\n",
       "                       min_weight_fraction_leaf=0.0, n_estimators=100,\n",
       "                       n_jobs=None, oob_score=False, random_state=None,\n",
       "                       verbose=0, warm_start=False)"
      ]
     },
     "execution_count": 47,
     "metadata": {},
     "output_type": "execute_result"
    }
   ],
   "source": [
    "rd_classifier = RandomForestClassifier()\n",
    "rd_classifier.fit(train_x, train_y)"
   ]
  },
  {
   "cell_type": "code",
   "execution_count": 48,
   "metadata": {},
   "outputs": [],
   "source": [
    "pred_y = rd_classifier.predict(test_x)"
   ]
  },
  {
   "cell_type": "code",
   "execution_count": 49,
   "metadata": {
    "scrolled": true
   },
   "outputs": [
    {
     "name": "stdout",
     "output_type": "stream",
     "text": [
      "              precision    recall  f1-score   support\n",
      "\n",
      "           0       0.97      0.87      0.92      1430\n",
      "           1       0.42      0.81      0.55       170\n",
      "\n",
      "    accuracy                           0.86      1600\n",
      "   macro avg       0.70      0.84      0.73      1600\n",
      "weighted avg       0.92      0.86      0.88      1600\n",
      "\n"
     ]
    }
   ],
   "source": [
    "print(classification_report(pred_y, test_y))"
   ]
  },
  {
   "cell_type": "code",
   "execution_count": 50,
   "metadata": {
    "scrolled": true
   },
   "outputs": [
    {
     "data": {
      "text/plain": [
       "array([[1237,   32],\n",
       "       [ 193,  138]], dtype=int64)"
      ]
     },
     "execution_count": 50,
     "metadata": {},
     "output_type": "execute_result"
    }
   ],
   "source": [
    "from sklearn.metrics import confusion_matrix\n",
    "confusion_matrix(test_y, pred_y)"
   ]
  }
 ],
 "metadata": {
  "kernelspec": {
   "display_name": "Python 3",
   "language": "python",
   "name": "python3"
  },
  "language_info": {
   "codemirror_mode": {
    "name": "ipython",
    "version": 3
   },
   "file_extension": ".py",
   "mimetype": "text/x-python",
   "name": "python",
   "nbconvert_exporter": "python",
   "pygments_lexer": "ipython3",
   "version": "3.5.3"
  }
 },
 "nbformat": 4,
 "nbformat_minor": 2
}
